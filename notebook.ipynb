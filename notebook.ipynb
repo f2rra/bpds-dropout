{
 "cells": [
  {
   "cell_type": "markdown",
   "metadata": {},
   "source": [
    "# Proyek Akhir: Menyelesaikan Permasalahan Jaya Jaya Institut"
   ]
  },
  {
   "cell_type": "markdown",
   "metadata": {},
   "source": [
    "- Nama: Fathur Rahman Al Farizy\n",
    "- Email: fathur.alfarizy02@gmail.com\n",
    "- Id Dicoding: fralfrzy"
   ]
  },
  {
   "cell_type": "markdown",
   "metadata": {},
   "source": [
    "## Persiapan"
   ]
  },
  {
   "cell_type": "markdown",
   "metadata": {},
   "source": [
    "### Menyiapkan library yang dibutuhkan"
   ]
  },
  {
   "cell_type": "code",
   "execution_count": 15,
   "metadata": {},
   "outputs": [],
   "source": [
    "import os\n",
    "import numpy as np\n",
    "import pandas as pd\n",
    "import matplotlib.pyplot as plt\n",
    "import seaborn as sns\n",
    "from sklearn.preprocessing import StandardScaler, OneHotEncoder\n",
    "from sklearn.compose import ColumnTransformer\n",
    "from sklearn.model_selection import train_test_split\n",
    "from sklearn.ensemble import GradientBoostingClassifier\n",
    "from sklearn.metrics import accuracy_score, classification_report, confusion_matrix\n",
    "from sklearn.preprocessing import StandardScaler\n",
    "from sklearn.model_selection import GridSearchCV\n",
    "from sklearn.pipeline import Pipeline\n",
    "import joblib\n",
    "from joblib import dump, load"
   ]
  },
  {
   "cell_type": "markdown",
   "metadata": {},
   "source": [
    "### Menyiapkan data yang akan diguankan"
   ]
  },
  {
   "cell_type": "code",
   "execution_count": 3,
   "metadata": {},
   "outputs": [
    {
     "data": {
      "application/vnd.microsoft.datawrangler.viewer.v0+json": {
       "columns": [
        {
         "name": "index",
         "rawType": "int64",
         "type": "integer"
        },
        {
         "name": "Marital_status",
         "rawType": "int64",
         "type": "integer"
        },
        {
         "name": "Application_mode",
         "rawType": "int64",
         "type": "integer"
        },
        {
         "name": "Application_order",
         "rawType": "int64",
         "type": "integer"
        },
        {
         "name": "Course",
         "rawType": "int64",
         "type": "integer"
        },
        {
         "name": "Daytime_evening_attendance",
         "rawType": "int64",
         "type": "integer"
        },
        {
         "name": "Previous_qualification",
         "rawType": "int64",
         "type": "integer"
        },
        {
         "name": "Previous_qualification_grade",
         "rawType": "float64",
         "type": "float"
        },
        {
         "name": "Nacionality",
         "rawType": "int64",
         "type": "integer"
        },
        {
         "name": "Mothers_qualification",
         "rawType": "int64",
         "type": "integer"
        },
        {
         "name": "Fathers_qualification",
         "rawType": "int64",
         "type": "integer"
        },
        {
         "name": "Mothers_occupation",
         "rawType": "int64",
         "type": "integer"
        },
        {
         "name": "Fathers_occupation",
         "rawType": "int64",
         "type": "integer"
        },
        {
         "name": "Admission_grade",
         "rawType": "float64",
         "type": "float"
        },
        {
         "name": "Displaced",
         "rawType": "int64",
         "type": "integer"
        },
        {
         "name": "Educational_special_needs",
         "rawType": "int64",
         "type": "integer"
        },
        {
         "name": "Debtor",
         "rawType": "int64",
         "type": "integer"
        },
        {
         "name": "Tuition_fees_up_to_date",
         "rawType": "int64",
         "type": "integer"
        },
        {
         "name": "Gender",
         "rawType": "int64",
         "type": "integer"
        },
        {
         "name": "Scholarship_holder",
         "rawType": "int64",
         "type": "integer"
        },
        {
         "name": "Age_at_enrollment",
         "rawType": "int64",
         "type": "integer"
        },
        {
         "name": "International",
         "rawType": "int64",
         "type": "integer"
        },
        {
         "name": "Curricular_units_1st_sem_credited",
         "rawType": "int64",
         "type": "integer"
        },
        {
         "name": "Curricular_units_1st_sem_enrolled",
         "rawType": "int64",
         "type": "integer"
        },
        {
         "name": "Curricular_units_1st_sem_evaluations",
         "rawType": "int64",
         "type": "integer"
        },
        {
         "name": "Curricular_units_1st_sem_approved",
         "rawType": "int64",
         "type": "integer"
        },
        {
         "name": "Curricular_units_1st_sem_grade",
         "rawType": "float64",
         "type": "float"
        },
        {
         "name": "Curricular_units_1st_sem_without_evaluations",
         "rawType": "int64",
         "type": "integer"
        },
        {
         "name": "Curricular_units_2nd_sem_credited",
         "rawType": "int64",
         "type": "integer"
        },
        {
         "name": "Curricular_units_2nd_sem_enrolled",
         "rawType": "int64",
         "type": "integer"
        },
        {
         "name": "Curricular_units_2nd_sem_evaluations",
         "rawType": "int64",
         "type": "integer"
        },
        {
         "name": "Curricular_units_2nd_sem_approved",
         "rawType": "int64",
         "type": "integer"
        },
        {
         "name": "Curricular_units_2nd_sem_grade",
         "rawType": "float64",
         "type": "float"
        },
        {
         "name": "Curricular_units_2nd_sem_without_evaluations",
         "rawType": "int64",
         "type": "integer"
        },
        {
         "name": "Unemployment_rate",
         "rawType": "float64",
         "type": "float"
        },
        {
         "name": "Inflation_rate",
         "rawType": "float64",
         "type": "float"
        },
        {
         "name": "GDP",
         "rawType": "float64",
         "type": "float"
        },
        {
         "name": "Status",
         "rawType": "object",
         "type": "string"
        }
       ],
       "ref": "1d7d6899-bcd1-457c-a222-70cddccf14eb",
       "rows": [
        [
         "0",
         "1",
         "17",
         "5",
         "171",
         "1",
         "1",
         "122.0",
         "1",
         "19",
         "12",
         "5",
         "9",
         "127.3",
         "1",
         "0",
         "0",
         "1",
         "1",
         "0",
         "20",
         "0",
         "0",
         "0",
         "0",
         "0",
         "0.0",
         "0",
         "0",
         "0",
         "0",
         "0",
         "0.0",
         "0",
         "10.8",
         "1.4",
         "1.74",
         "Dropout"
        ],
        [
         "1",
         "1",
         "15",
         "1",
         "9254",
         "1",
         "1",
         "160.0",
         "1",
         "1",
         "3",
         "3",
         "3",
         "142.5",
         "1",
         "0",
         "0",
         "0",
         "1",
         "0",
         "19",
         "0",
         "0",
         "6",
         "6",
         "6",
         "14.0",
         "0",
         "0",
         "6",
         "6",
         "6",
         "13.666666666666666",
         "0",
         "13.9",
         "-0.3",
         "0.79",
         "Graduate"
        ],
        [
         "2",
         "1",
         "1",
         "5",
         "9070",
         "1",
         "1",
         "122.0",
         "1",
         "37",
         "37",
         "9",
         "9",
         "124.8",
         "1",
         "0",
         "0",
         "0",
         "1",
         "0",
         "19",
         "0",
         "0",
         "6",
         "0",
         "0",
         "0.0",
         "0",
         "0",
         "6",
         "0",
         "0",
         "0.0",
         "0",
         "10.8",
         "1.4",
         "1.74",
         "Dropout"
        ],
        [
         "3",
         "1",
         "17",
         "2",
         "9773",
         "1",
         "1",
         "122.0",
         "1",
         "38",
         "37",
         "5",
         "3",
         "119.6",
         "1",
         "0",
         "0",
         "1",
         "0",
         "0",
         "20",
         "0",
         "0",
         "6",
         "8",
         "6",
         "13.428571428571429",
         "0",
         "0",
         "6",
         "10",
         "5",
         "12.4",
         "0",
         "9.4",
         "-0.8",
         "-3.12",
         "Graduate"
        ],
        [
         "4",
         "2",
         "39",
         "1",
         "8014",
         "0",
         "1",
         "100.0",
         "1",
         "37",
         "38",
         "9",
         "9",
         "141.5",
         "0",
         "0",
         "0",
         "1",
         "0",
         "0",
         "45",
         "0",
         "0",
         "6",
         "9",
         "5",
         "12.333333333333334",
         "0",
         "0",
         "6",
         "6",
         "6",
         "13.0",
         "0",
         "13.9",
         "-0.3",
         "0.79",
         "Graduate"
        ]
       ],
       "shape": {
        "columns": 37,
        "rows": 5
       }
      },
      "text/html": [
       "<div>\n",
       "<style scoped>\n",
       "    .dataframe tbody tr th:only-of-type {\n",
       "        vertical-align: middle;\n",
       "    }\n",
       "\n",
       "    .dataframe tbody tr th {\n",
       "        vertical-align: top;\n",
       "    }\n",
       "\n",
       "    .dataframe thead th {\n",
       "        text-align: right;\n",
       "    }\n",
       "</style>\n",
       "<table border=\"1\" class=\"dataframe\">\n",
       "  <thead>\n",
       "    <tr style=\"text-align: right;\">\n",
       "      <th></th>\n",
       "      <th>Marital_status</th>\n",
       "      <th>Application_mode</th>\n",
       "      <th>Application_order</th>\n",
       "      <th>Course</th>\n",
       "      <th>Daytime_evening_attendance</th>\n",
       "      <th>Previous_qualification</th>\n",
       "      <th>Previous_qualification_grade</th>\n",
       "      <th>Nacionality</th>\n",
       "      <th>Mothers_qualification</th>\n",
       "      <th>Fathers_qualification</th>\n",
       "      <th>...</th>\n",
       "      <th>Curricular_units_2nd_sem_credited</th>\n",
       "      <th>Curricular_units_2nd_sem_enrolled</th>\n",
       "      <th>Curricular_units_2nd_sem_evaluations</th>\n",
       "      <th>Curricular_units_2nd_sem_approved</th>\n",
       "      <th>Curricular_units_2nd_sem_grade</th>\n",
       "      <th>Curricular_units_2nd_sem_without_evaluations</th>\n",
       "      <th>Unemployment_rate</th>\n",
       "      <th>Inflation_rate</th>\n",
       "      <th>GDP</th>\n",
       "      <th>Status</th>\n",
       "    </tr>\n",
       "  </thead>\n",
       "  <tbody>\n",
       "    <tr>\n",
       "      <th>0</th>\n",
       "      <td>1</td>\n",
       "      <td>17</td>\n",
       "      <td>5</td>\n",
       "      <td>171</td>\n",
       "      <td>1</td>\n",
       "      <td>1</td>\n",
       "      <td>122.0</td>\n",
       "      <td>1</td>\n",
       "      <td>19</td>\n",
       "      <td>12</td>\n",
       "      <td>...</td>\n",
       "      <td>0</td>\n",
       "      <td>0</td>\n",
       "      <td>0</td>\n",
       "      <td>0</td>\n",
       "      <td>0.000000</td>\n",
       "      <td>0</td>\n",
       "      <td>10.8</td>\n",
       "      <td>1.4</td>\n",
       "      <td>1.74</td>\n",
       "      <td>Dropout</td>\n",
       "    </tr>\n",
       "    <tr>\n",
       "      <th>1</th>\n",
       "      <td>1</td>\n",
       "      <td>15</td>\n",
       "      <td>1</td>\n",
       "      <td>9254</td>\n",
       "      <td>1</td>\n",
       "      <td>1</td>\n",
       "      <td>160.0</td>\n",
       "      <td>1</td>\n",
       "      <td>1</td>\n",
       "      <td>3</td>\n",
       "      <td>...</td>\n",
       "      <td>0</td>\n",
       "      <td>6</td>\n",
       "      <td>6</td>\n",
       "      <td>6</td>\n",
       "      <td>13.666667</td>\n",
       "      <td>0</td>\n",
       "      <td>13.9</td>\n",
       "      <td>-0.3</td>\n",
       "      <td>0.79</td>\n",
       "      <td>Graduate</td>\n",
       "    </tr>\n",
       "    <tr>\n",
       "      <th>2</th>\n",
       "      <td>1</td>\n",
       "      <td>1</td>\n",
       "      <td>5</td>\n",
       "      <td>9070</td>\n",
       "      <td>1</td>\n",
       "      <td>1</td>\n",
       "      <td>122.0</td>\n",
       "      <td>1</td>\n",
       "      <td>37</td>\n",
       "      <td>37</td>\n",
       "      <td>...</td>\n",
       "      <td>0</td>\n",
       "      <td>6</td>\n",
       "      <td>0</td>\n",
       "      <td>0</td>\n",
       "      <td>0.000000</td>\n",
       "      <td>0</td>\n",
       "      <td>10.8</td>\n",
       "      <td>1.4</td>\n",
       "      <td>1.74</td>\n",
       "      <td>Dropout</td>\n",
       "    </tr>\n",
       "    <tr>\n",
       "      <th>3</th>\n",
       "      <td>1</td>\n",
       "      <td>17</td>\n",
       "      <td>2</td>\n",
       "      <td>9773</td>\n",
       "      <td>1</td>\n",
       "      <td>1</td>\n",
       "      <td>122.0</td>\n",
       "      <td>1</td>\n",
       "      <td>38</td>\n",
       "      <td>37</td>\n",
       "      <td>...</td>\n",
       "      <td>0</td>\n",
       "      <td>6</td>\n",
       "      <td>10</td>\n",
       "      <td>5</td>\n",
       "      <td>12.400000</td>\n",
       "      <td>0</td>\n",
       "      <td>9.4</td>\n",
       "      <td>-0.8</td>\n",
       "      <td>-3.12</td>\n",
       "      <td>Graduate</td>\n",
       "    </tr>\n",
       "    <tr>\n",
       "      <th>4</th>\n",
       "      <td>2</td>\n",
       "      <td>39</td>\n",
       "      <td>1</td>\n",
       "      <td>8014</td>\n",
       "      <td>0</td>\n",
       "      <td>1</td>\n",
       "      <td>100.0</td>\n",
       "      <td>1</td>\n",
       "      <td>37</td>\n",
       "      <td>38</td>\n",
       "      <td>...</td>\n",
       "      <td>0</td>\n",
       "      <td>6</td>\n",
       "      <td>6</td>\n",
       "      <td>6</td>\n",
       "      <td>13.000000</td>\n",
       "      <td>0</td>\n",
       "      <td>13.9</td>\n",
       "      <td>-0.3</td>\n",
       "      <td>0.79</td>\n",
       "      <td>Graduate</td>\n",
       "    </tr>\n",
       "  </tbody>\n",
       "</table>\n",
       "<p>5 rows × 37 columns</p>\n",
       "</div>"
      ],
      "text/plain": [
       "   Marital_status  Application_mode  Application_order  Course  \\\n",
       "0               1                17                  5     171   \n",
       "1               1                15                  1    9254   \n",
       "2               1                 1                  5    9070   \n",
       "3               1                17                  2    9773   \n",
       "4               2                39                  1    8014   \n",
       "\n",
       "   Daytime_evening_attendance  Previous_qualification  \\\n",
       "0                           1                       1   \n",
       "1                           1                       1   \n",
       "2                           1                       1   \n",
       "3                           1                       1   \n",
       "4                           0                       1   \n",
       "\n",
       "   Previous_qualification_grade  Nacionality  Mothers_qualification  \\\n",
       "0                         122.0            1                     19   \n",
       "1                         160.0            1                      1   \n",
       "2                         122.0            1                     37   \n",
       "3                         122.0            1                     38   \n",
       "4                         100.0            1                     37   \n",
       "\n",
       "   Fathers_qualification  ...  Curricular_units_2nd_sem_credited  \\\n",
       "0                     12  ...                                  0   \n",
       "1                      3  ...                                  0   \n",
       "2                     37  ...                                  0   \n",
       "3                     37  ...                                  0   \n",
       "4                     38  ...                                  0   \n",
       "\n",
       "   Curricular_units_2nd_sem_enrolled  Curricular_units_2nd_sem_evaluations  \\\n",
       "0                                  0                                     0   \n",
       "1                                  6                                     6   \n",
       "2                                  6                                     0   \n",
       "3                                  6                                    10   \n",
       "4                                  6                                     6   \n",
       "\n",
       "   Curricular_units_2nd_sem_approved  Curricular_units_2nd_sem_grade  \\\n",
       "0                                  0                        0.000000   \n",
       "1                                  6                       13.666667   \n",
       "2                                  0                        0.000000   \n",
       "3                                  5                       12.400000   \n",
       "4                                  6                       13.000000   \n",
       "\n",
       "   Curricular_units_2nd_sem_without_evaluations  Unemployment_rate  \\\n",
       "0                                             0               10.8   \n",
       "1                                             0               13.9   \n",
       "2                                             0               10.8   \n",
       "3                                             0                9.4   \n",
       "4                                             0               13.9   \n",
       "\n",
       "   Inflation_rate   GDP    Status  \n",
       "0             1.4  1.74   Dropout  \n",
       "1            -0.3  0.79  Graduate  \n",
       "2             1.4  1.74   Dropout  \n",
       "3            -0.8 -3.12  Graduate  \n",
       "4            -0.3  0.79  Graduate  \n",
       "\n",
       "[5 rows x 37 columns]"
      ]
     },
     "execution_count": 3,
     "metadata": {},
     "output_type": "execute_result"
    }
   ],
   "source": [
    "df = pd.read_csv(\"data.csv\",sep=\";\")\n",
    "df.head()"
   ]
  },
  {
   "cell_type": "markdown",
   "metadata": {},
   "source": [
    "## Data Understanding"
   ]
  },
  {
   "cell_type": "code",
   "execution_count": 4,
   "metadata": {},
   "outputs": [
    {
     "name": "stdout",
     "output_type": "stream",
     "text": [
      "<class 'pandas.core.frame.DataFrame'>\n",
      "RangeIndex: 4424 entries, 0 to 4423\n",
      "Data columns (total 37 columns):\n",
      " #   Column                                        Non-Null Count  Dtype  \n",
      "---  ------                                        --------------  -----  \n",
      " 0   Marital_status                                4424 non-null   int64  \n",
      " 1   Application_mode                              4424 non-null   int64  \n",
      " 2   Application_order                             4424 non-null   int64  \n",
      " 3   Course                                        4424 non-null   int64  \n",
      " 4   Daytime_evening_attendance                    4424 non-null   int64  \n",
      " 5   Previous_qualification                        4424 non-null   int64  \n",
      " 6   Previous_qualification_grade                  4424 non-null   float64\n",
      " 7   Nacionality                                   4424 non-null   int64  \n",
      " 8   Mothers_qualification                         4424 non-null   int64  \n",
      " 9   Fathers_qualification                         4424 non-null   int64  \n",
      " 10  Mothers_occupation                            4424 non-null   int64  \n",
      " 11  Fathers_occupation                            4424 non-null   int64  \n",
      " 12  Admission_grade                               4424 non-null   float64\n",
      " 13  Displaced                                     4424 non-null   int64  \n",
      " 14  Educational_special_needs                     4424 non-null   int64  \n",
      " 15  Debtor                                        4424 non-null   int64  \n",
      " 16  Tuition_fees_up_to_date                       4424 non-null   int64  \n",
      " 17  Gender                                        4424 non-null   int64  \n",
      " 18  Scholarship_holder                            4424 non-null   int64  \n",
      " 19  Age_at_enrollment                             4424 non-null   int64  \n",
      " 20  International                                 4424 non-null   int64  \n",
      " 21  Curricular_units_1st_sem_credited             4424 non-null   int64  \n",
      " 22  Curricular_units_1st_sem_enrolled             4424 non-null   int64  \n",
      " 23  Curricular_units_1st_sem_evaluations          4424 non-null   int64  \n",
      " 24  Curricular_units_1st_sem_approved             4424 non-null   int64  \n",
      " 25  Curricular_units_1st_sem_grade                4424 non-null   float64\n",
      " 26  Curricular_units_1st_sem_without_evaluations  4424 non-null   int64  \n",
      " 27  Curricular_units_2nd_sem_credited             4424 non-null   int64  \n",
      " 28  Curricular_units_2nd_sem_enrolled             4424 non-null   int64  \n",
      " 29  Curricular_units_2nd_sem_evaluations          4424 non-null   int64  \n",
      " 30  Curricular_units_2nd_sem_approved             4424 non-null   int64  \n",
      " 31  Curricular_units_2nd_sem_grade                4424 non-null   float64\n",
      " 32  Curricular_units_2nd_sem_without_evaluations  4424 non-null   int64  \n",
      " 33  Unemployment_rate                             4424 non-null   float64\n",
      " 34  Inflation_rate                                4424 non-null   float64\n",
      " 35  GDP                                           4424 non-null   float64\n",
      " 36  Status                                        4424 non-null   object \n",
      "dtypes: float64(7), int64(29), object(1)\n",
      "memory usage: 1.2+ MB\n"
     ]
    }
   ],
   "source": [
    "df.info()"
   ]
  },
  {
   "cell_type": "markdown",
   "metadata": {},
   "source": [
    "## Data Preparation / Preprocessing"
   ]
  },
  {
   "cell_type": "code",
   "execution_count": 6,
   "metadata": {},
   "outputs": [
    {
     "name": "stdout",
     "output_type": "stream",
     "text": [
      "Distribusi kelas target:\n"
     ]
    },
    {
     "data": {
      "application/vnd.microsoft.datawrangler.viewer.v0+json": {
       "columns": [
        {
         "name": "Status",
         "rawType": "object",
         "type": "string"
        },
        {
         "name": "count",
         "rawType": "int64",
         "type": "integer"
        }
       ],
       "ref": "215f86d9-85f0-4c65-b923-36c6e741eb5e",
       "rows": [
        [
         "Graduate",
         "2209"
        ],
        [
         "Dropout",
         "1421"
        ],
        [
         "Enrolled",
         "794"
        ]
       ],
       "shape": {
        "columns": 1,
        "rows": 3
       }
      },
      "text/plain": [
       "Status\n",
       "Graduate    2209\n",
       "Dropout     1421\n",
       "Enrolled     794\n",
       "Name: count, dtype: int64"
      ]
     },
     "execution_count": 6,
     "metadata": {},
     "output_type": "execute_result"
    }
   ],
   "source": [
    "# Cek distribusi kelas target\n",
    "print(\"Distribusi kelas target:\")\n",
    "df['Status'].value_counts()"
   ]
  },
  {
   "cell_type": "code",
   "execution_count": 12,
   "metadata": {},
   "outputs": [
    {
     "data": {
      "application/vnd.microsoft.datawrangler.viewer.v0+json": {
       "columns": [
        {
         "name": "index",
         "rawType": "int64",
         "type": "integer"
        },
        {
         "name": "Status",
         "rawType": "object",
         "type": "string"
        },
        {
         "name": "Status_encoded",
         "rawType": "int64",
         "type": "integer"
        }
       ],
       "ref": "993e8a5c-1c27-4c99-b311-344d5bfe6282",
       "rows": [
        [
         "0",
         "Dropout",
         "0"
        ],
        [
         "1",
         "Graduate",
         "2"
        ],
        [
         "2",
         "Dropout",
         "0"
        ],
        [
         "3",
         "Graduate",
         "2"
        ],
        [
         "4",
         "Graduate",
         "2"
        ],
        [
         "5",
         "Graduate",
         "2"
        ],
        [
         "6",
         "Graduate",
         "2"
        ],
        [
         "7",
         "Dropout",
         "0"
        ],
        [
         "8",
         "Graduate",
         "2"
        ],
        [
         "9",
         "Dropout",
         "0"
        ],
        [
         "10",
         "Graduate",
         "2"
        ],
        [
         "11",
         "Graduate",
         "2"
        ],
        [
         "12",
         "Dropout",
         "0"
        ],
        [
         "13",
         "Graduate",
         "2"
        ],
        [
         "14",
         "Graduate",
         "2"
        ],
        [
         "15",
         "Dropout",
         "0"
        ],
        [
         "16",
         "Enrolled",
         "1"
        ],
        [
         "17",
         "Graduate",
         "2"
        ],
        [
         "18",
         "Graduate",
         "2"
        ],
        [
         "19",
         "Enrolled",
         "1"
        ],
        [
         "20",
         "Graduate",
         "2"
        ],
        [
         "21",
         "Enrolled",
         "1"
        ],
        [
         "22",
         "Graduate",
         "2"
        ],
        [
         "23",
         "Graduate",
         "2"
        ],
        [
         "24",
         "Graduate",
         "2"
        ],
        [
         "25",
         "Enrolled",
         "1"
        ],
        [
         "26",
         "Graduate",
         "2"
        ],
        [
         "27",
         "Enrolled",
         "1"
        ],
        [
         "28",
         "Graduate",
         "2"
        ],
        [
         "29",
         "Enrolled",
         "1"
        ],
        [
         "30",
         "Enrolled",
         "1"
        ],
        [
         "31",
         "Graduate",
         "2"
        ],
        [
         "32",
         "Enrolled",
         "1"
        ],
        [
         "33",
         "Graduate",
         "2"
        ],
        [
         "34",
         "Graduate",
         "2"
        ],
        [
         "35",
         "Dropout",
         "0"
        ],
        [
         "36",
         "Dropout",
         "0"
        ],
        [
         "37",
         "Dropout",
         "0"
        ],
        [
         "38",
         "Graduate",
         "2"
        ],
        [
         "39",
         "Dropout",
         "0"
        ],
        [
         "40",
         "Dropout",
         "0"
        ],
        [
         "41",
         "Graduate",
         "2"
        ],
        [
         "42",
         "Graduate",
         "2"
        ],
        [
         "43",
         "Dropout",
         "0"
        ],
        [
         "44",
         "Dropout",
         "0"
        ],
        [
         "45",
         "Enrolled",
         "1"
        ],
        [
         "46",
         "Graduate",
         "2"
        ],
        [
         "47",
         "Graduate",
         "2"
        ],
        [
         "48",
         "Graduate",
         "2"
        ],
        [
         "49",
         "Graduate",
         "2"
        ]
       ],
       "shape": {
        "columns": 2,
        "rows": 4424
       }
      },
      "text/html": [
       "<div>\n",
       "<style scoped>\n",
       "    .dataframe tbody tr th:only-of-type {\n",
       "        vertical-align: middle;\n",
       "    }\n",
       "\n",
       "    .dataframe tbody tr th {\n",
       "        vertical-align: top;\n",
       "    }\n",
       "\n",
       "    .dataframe thead th {\n",
       "        text-align: right;\n",
       "    }\n",
       "</style>\n",
       "<table border=\"1\" class=\"dataframe\">\n",
       "  <thead>\n",
       "    <tr style=\"text-align: right;\">\n",
       "      <th></th>\n",
       "      <th>Status</th>\n",
       "      <th>Status_encoded</th>\n",
       "    </tr>\n",
       "  </thead>\n",
       "  <tbody>\n",
       "    <tr>\n",
       "      <th>0</th>\n",
       "      <td>Dropout</td>\n",
       "      <td>0</td>\n",
       "    </tr>\n",
       "    <tr>\n",
       "      <th>1</th>\n",
       "      <td>Graduate</td>\n",
       "      <td>2</td>\n",
       "    </tr>\n",
       "    <tr>\n",
       "      <th>2</th>\n",
       "      <td>Dropout</td>\n",
       "      <td>0</td>\n",
       "    </tr>\n",
       "    <tr>\n",
       "      <th>3</th>\n",
       "      <td>Graduate</td>\n",
       "      <td>2</td>\n",
       "    </tr>\n",
       "    <tr>\n",
       "      <th>4</th>\n",
       "      <td>Graduate</td>\n",
       "      <td>2</td>\n",
       "    </tr>\n",
       "    <tr>\n",
       "      <th>...</th>\n",
       "      <td>...</td>\n",
       "      <td>...</td>\n",
       "    </tr>\n",
       "    <tr>\n",
       "      <th>4419</th>\n",
       "      <td>Graduate</td>\n",
       "      <td>2</td>\n",
       "    </tr>\n",
       "    <tr>\n",
       "      <th>4420</th>\n",
       "      <td>Dropout</td>\n",
       "      <td>0</td>\n",
       "    </tr>\n",
       "    <tr>\n",
       "      <th>4421</th>\n",
       "      <td>Dropout</td>\n",
       "      <td>0</td>\n",
       "    </tr>\n",
       "    <tr>\n",
       "      <th>4422</th>\n",
       "      <td>Graduate</td>\n",
       "      <td>2</td>\n",
       "    </tr>\n",
       "    <tr>\n",
       "      <th>4423</th>\n",
       "      <td>Graduate</td>\n",
       "      <td>2</td>\n",
       "    </tr>\n",
       "  </tbody>\n",
       "</table>\n",
       "<p>4424 rows × 2 columns</p>\n",
       "</div>"
      ],
      "text/plain": [
       "        Status  Status_encoded\n",
       "0      Dropout               0\n",
       "1     Graduate               2\n",
       "2      Dropout               0\n",
       "3     Graduate               2\n",
       "4     Graduate               2\n",
       "...        ...             ...\n",
       "4419  Graduate               2\n",
       "4420   Dropout               0\n",
       "4421   Dropout               0\n",
       "4422  Graduate               2\n",
       "4423  Graduate               2\n",
       "\n",
       "[4424 rows x 2 columns]"
      ]
     },
     "execution_count": 12,
     "metadata": {},
     "output_type": "execute_result"
    }
   ],
   "source": [
    "# Encode target variable\n",
    "from sklearn.preprocessing import LabelEncoder\n",
    "le = LabelEncoder()\n",
    "df['Status_encoded'] = le.fit_transform(df['Status'])\n",
    "df[['Status','Status_encoded']]"
   ]
  },
  {
   "cell_type": "code",
   "execution_count": 8,
   "metadata": {},
   "outputs": [],
   "source": [
    "# Pisahkan fitur dan target\n",
    "X = df.drop(['Status', 'Status_encoded'], axis=1)\n",
    "y = df['Status_encoded']"
   ]
  },
  {
   "cell_type": "code",
   "execution_count": 9,
   "metadata": {},
   "outputs": [],
   "source": [
    "# Split data\n",
    "X_train, X_test, y_train, y_test = train_test_split(\n",
    "    X, y, \n",
    "    test_size=0.2, \n",
    "    random_state=42,\n",
    "    stratify=y\n",
    ")"
   ]
  },
  {
   "cell_type": "code",
   "execution_count": 10,
   "metadata": {},
   "outputs": [],
   "source": [
    "# Identifikasi kolom numerik dan kategorikal\n",
    "numeric_features = X.select_dtypes(include=['int64', 'float64']).columns\n",
    "categorical_features = X.select_dtypes(include=['object']).columns"
   ]
  },
  {
   "cell_type": "code",
   "execution_count": 24,
   "metadata": {},
   "outputs": [
    {
     "data": {
      "text/plain": [
       "Index(['Marital_status', 'Application_mode', 'Application_order', 'Course',\n",
       "       'Daytime_evening_attendance', 'Previous_qualification',\n",
       "       'Previous_qualification_grade', 'Nacionality', 'Mothers_qualification',\n",
       "       'Fathers_qualification', 'Mothers_occupation', 'Fathers_occupation',\n",
       "       'Admission_grade', 'Displaced', 'Educational_special_needs', 'Debtor',\n",
       "       'Tuition_fees_up_to_date', 'Gender', 'Scholarship_holder',\n",
       "       'Age_at_enrollment', 'International',\n",
       "       'Curricular_units_1st_sem_credited',\n",
       "       'Curricular_units_1st_sem_enrolled',\n",
       "       'Curricular_units_1st_sem_evaluations',\n",
       "       'Curricular_units_1st_sem_approved', 'Curricular_units_1st_sem_grade',\n",
       "       'Curricular_units_1st_sem_without_evaluations',\n",
       "       'Curricular_units_2nd_sem_credited',\n",
       "       'Curricular_units_2nd_sem_enrolled',\n",
       "       'Curricular_units_2nd_sem_evaluations',\n",
       "       'Curricular_units_2nd_sem_approved', 'Curricular_units_2nd_sem_grade',\n",
       "       'Curricular_units_2nd_sem_without_evaluations', 'Unemployment_rate',\n",
       "       'Inflation_rate', 'GDP'],\n",
       "      dtype='object')"
      ]
     },
     "execution_count": 24,
     "metadata": {},
     "output_type": "execute_result"
    }
   ],
   "source": [
    "numeric_features"
   ]
  },
  {
   "cell_type": "code",
   "execution_count": 16,
   "metadata": {},
   "outputs": [],
   "source": [
    "# Preprocessing pipeline\n",
    "numeric_transformer = Pipeline(steps=[\n",
    "    ('scaler', StandardScaler())\n",
    "])\n",
    "\n",
    "categorical_transformer = Pipeline(steps=[\n",
    "    ('onehot', OneHotEncoder(handle_unknown='ignore'))\n",
    "])\n",
    "\n",
    "preprocessor = ColumnTransformer(\n",
    "    transformers=[\n",
    "        ('num', numeric_transformer, numeric_features),\n",
    "        ('cat', categorical_transformer, categorical_features)\n",
    "    ])"
   ]
  },
  {
   "cell_type": "markdown",
   "metadata": {},
   "source": [
    "## Modeling"
   ]
  },
  {
   "cell_type": "code",
   "execution_count": 17,
   "metadata": {},
   "outputs": [],
   "source": [
    "# Buat pipeline dengan model Gradient Boosting\n",
    "gb_pipeline = Pipeline(steps=[\n",
    "    ('preprocessor', preprocessor),\n",
    "    ('classifier', GradientBoostingClassifier(random_state=42))\n",
    "])"
   ]
  },
  {
   "cell_type": "code",
   "execution_count": 19,
   "metadata": {},
   "outputs": [
    {
     "name": "stdout",
     "output_type": "stream",
     "text": [
      "Fitting 5 folds for each of 8 candidates, totalling 40 fits\n"
     ]
    },
    {
     "data": {
      "text/html": [
       "<style>#sk-container-id-1 {\n",
       "  /* Definition of color scheme common for light and dark mode */\n",
       "  --sklearn-color-text: #000;\n",
       "  --sklearn-color-text-muted: #666;\n",
       "  --sklearn-color-line: gray;\n",
       "  /* Definition of color scheme for unfitted estimators */\n",
       "  --sklearn-color-unfitted-level-0: #fff5e6;\n",
       "  --sklearn-color-unfitted-level-1: #f6e4d2;\n",
       "  --sklearn-color-unfitted-level-2: #ffe0b3;\n",
       "  --sklearn-color-unfitted-level-3: chocolate;\n",
       "  /* Definition of color scheme for fitted estimators */\n",
       "  --sklearn-color-fitted-level-0: #f0f8ff;\n",
       "  --sklearn-color-fitted-level-1: #d4ebff;\n",
       "  --sklearn-color-fitted-level-2: #b3dbfd;\n",
       "  --sklearn-color-fitted-level-3: cornflowerblue;\n",
       "\n",
       "  /* Specific color for light theme */\n",
       "  --sklearn-color-text-on-default-background: var(--sg-text-color, var(--theme-code-foreground, var(--jp-content-font-color1, black)));\n",
       "  --sklearn-color-background: var(--sg-background-color, var(--theme-background, var(--jp-layout-color0, white)));\n",
       "  --sklearn-color-border-box: var(--sg-text-color, var(--theme-code-foreground, var(--jp-content-font-color1, black)));\n",
       "  --sklearn-color-icon: #696969;\n",
       "\n",
       "  @media (prefers-color-scheme: dark) {\n",
       "    /* Redefinition of color scheme for dark theme */\n",
       "    --sklearn-color-text-on-default-background: var(--sg-text-color, var(--theme-code-foreground, var(--jp-content-font-color1, white)));\n",
       "    --sklearn-color-background: var(--sg-background-color, var(--theme-background, var(--jp-layout-color0, #111)));\n",
       "    --sklearn-color-border-box: var(--sg-text-color, var(--theme-code-foreground, var(--jp-content-font-color1, white)));\n",
       "    --sklearn-color-icon: #878787;\n",
       "  }\n",
       "}\n",
       "\n",
       "#sk-container-id-1 {\n",
       "  color: var(--sklearn-color-text);\n",
       "}\n",
       "\n",
       "#sk-container-id-1 pre {\n",
       "  padding: 0;\n",
       "}\n",
       "\n",
       "#sk-container-id-1 input.sk-hidden--visually {\n",
       "  border: 0;\n",
       "  clip: rect(1px 1px 1px 1px);\n",
       "  clip: rect(1px, 1px, 1px, 1px);\n",
       "  height: 1px;\n",
       "  margin: -1px;\n",
       "  overflow: hidden;\n",
       "  padding: 0;\n",
       "  position: absolute;\n",
       "  width: 1px;\n",
       "}\n",
       "\n",
       "#sk-container-id-1 div.sk-dashed-wrapped {\n",
       "  border: 1px dashed var(--sklearn-color-line);\n",
       "  margin: 0 0.4em 0.5em 0.4em;\n",
       "  box-sizing: border-box;\n",
       "  padding-bottom: 0.4em;\n",
       "  background-color: var(--sklearn-color-background);\n",
       "}\n",
       "\n",
       "#sk-container-id-1 div.sk-container {\n",
       "  /* jupyter's `normalize.less` sets `[hidden] { display: none; }`\n",
       "     but bootstrap.min.css set `[hidden] { display: none !important; }`\n",
       "     so we also need the `!important` here to be able to override the\n",
       "     default hidden behavior on the sphinx rendered scikit-learn.org.\n",
       "     See: https://github.com/scikit-learn/scikit-learn/issues/21755 */\n",
       "  display: inline-block !important;\n",
       "  position: relative;\n",
       "}\n",
       "\n",
       "#sk-container-id-1 div.sk-text-repr-fallback {\n",
       "  display: none;\n",
       "}\n",
       "\n",
       "div.sk-parallel-item,\n",
       "div.sk-serial,\n",
       "div.sk-item {\n",
       "  /* draw centered vertical line to link estimators */\n",
       "  background-image: linear-gradient(var(--sklearn-color-text-on-default-background), var(--sklearn-color-text-on-default-background));\n",
       "  background-size: 2px 100%;\n",
       "  background-repeat: no-repeat;\n",
       "  background-position: center center;\n",
       "}\n",
       "\n",
       "/* Parallel-specific style estimator block */\n",
       "\n",
       "#sk-container-id-1 div.sk-parallel-item::after {\n",
       "  content: \"\";\n",
       "  width: 100%;\n",
       "  border-bottom: 2px solid var(--sklearn-color-text-on-default-background);\n",
       "  flex-grow: 1;\n",
       "}\n",
       "\n",
       "#sk-container-id-1 div.sk-parallel {\n",
       "  display: flex;\n",
       "  align-items: stretch;\n",
       "  justify-content: center;\n",
       "  background-color: var(--sklearn-color-background);\n",
       "  position: relative;\n",
       "}\n",
       "\n",
       "#sk-container-id-1 div.sk-parallel-item {\n",
       "  display: flex;\n",
       "  flex-direction: column;\n",
       "}\n",
       "\n",
       "#sk-container-id-1 div.sk-parallel-item:first-child::after {\n",
       "  align-self: flex-end;\n",
       "  width: 50%;\n",
       "}\n",
       "\n",
       "#sk-container-id-1 div.sk-parallel-item:last-child::after {\n",
       "  align-self: flex-start;\n",
       "  width: 50%;\n",
       "}\n",
       "\n",
       "#sk-container-id-1 div.sk-parallel-item:only-child::after {\n",
       "  width: 0;\n",
       "}\n",
       "\n",
       "/* Serial-specific style estimator block */\n",
       "\n",
       "#sk-container-id-1 div.sk-serial {\n",
       "  display: flex;\n",
       "  flex-direction: column;\n",
       "  align-items: center;\n",
       "  background-color: var(--sklearn-color-background);\n",
       "  padding-right: 1em;\n",
       "  padding-left: 1em;\n",
       "}\n",
       "\n",
       "\n",
       "/* Toggleable style: style used for estimator/Pipeline/ColumnTransformer box that is\n",
       "clickable and can be expanded/collapsed.\n",
       "- Pipeline and ColumnTransformer use this feature and define the default style\n",
       "- Estimators will overwrite some part of the style using the `sk-estimator` class\n",
       "*/\n",
       "\n",
       "/* Pipeline and ColumnTransformer style (default) */\n",
       "\n",
       "#sk-container-id-1 div.sk-toggleable {\n",
       "  /* Default theme specific background. It is overwritten whether we have a\n",
       "  specific estimator or a Pipeline/ColumnTransformer */\n",
       "  background-color: var(--sklearn-color-background);\n",
       "}\n",
       "\n",
       "/* Toggleable label */\n",
       "#sk-container-id-1 label.sk-toggleable__label {\n",
       "  cursor: pointer;\n",
       "  display: flex;\n",
       "  width: 100%;\n",
       "  margin-bottom: 0;\n",
       "  padding: 0.5em;\n",
       "  box-sizing: border-box;\n",
       "  text-align: center;\n",
       "  align-items: start;\n",
       "  justify-content: space-between;\n",
       "  gap: 0.5em;\n",
       "}\n",
       "\n",
       "#sk-container-id-1 label.sk-toggleable__label .caption {\n",
       "  font-size: 0.6rem;\n",
       "  font-weight: lighter;\n",
       "  color: var(--sklearn-color-text-muted);\n",
       "}\n",
       "\n",
       "#sk-container-id-1 label.sk-toggleable__label-arrow:before {\n",
       "  /* Arrow on the left of the label */\n",
       "  content: \"▸\";\n",
       "  float: left;\n",
       "  margin-right: 0.25em;\n",
       "  color: var(--sklearn-color-icon);\n",
       "}\n",
       "\n",
       "#sk-container-id-1 label.sk-toggleable__label-arrow:hover:before {\n",
       "  color: var(--sklearn-color-text);\n",
       "}\n",
       "\n",
       "/* Toggleable content - dropdown */\n",
       "\n",
       "#sk-container-id-1 div.sk-toggleable__content {\n",
       "  max-height: 0;\n",
       "  max-width: 0;\n",
       "  overflow: hidden;\n",
       "  text-align: left;\n",
       "  /* unfitted */\n",
       "  background-color: var(--sklearn-color-unfitted-level-0);\n",
       "}\n",
       "\n",
       "#sk-container-id-1 div.sk-toggleable__content.fitted {\n",
       "  /* fitted */\n",
       "  background-color: var(--sklearn-color-fitted-level-0);\n",
       "}\n",
       "\n",
       "#sk-container-id-1 div.sk-toggleable__content pre {\n",
       "  margin: 0.2em;\n",
       "  border-radius: 0.25em;\n",
       "  color: var(--sklearn-color-text);\n",
       "  /* unfitted */\n",
       "  background-color: var(--sklearn-color-unfitted-level-0);\n",
       "}\n",
       "\n",
       "#sk-container-id-1 div.sk-toggleable__content.fitted pre {\n",
       "  /* unfitted */\n",
       "  background-color: var(--sklearn-color-fitted-level-0);\n",
       "}\n",
       "\n",
       "#sk-container-id-1 input.sk-toggleable__control:checked~div.sk-toggleable__content {\n",
       "  /* Expand drop-down */\n",
       "  max-height: 200px;\n",
       "  max-width: 100%;\n",
       "  overflow: auto;\n",
       "}\n",
       "\n",
       "#sk-container-id-1 input.sk-toggleable__control:checked~label.sk-toggleable__label-arrow:before {\n",
       "  content: \"▾\";\n",
       "}\n",
       "\n",
       "/* Pipeline/ColumnTransformer-specific style */\n",
       "\n",
       "#sk-container-id-1 div.sk-label input.sk-toggleable__control:checked~label.sk-toggleable__label {\n",
       "  color: var(--sklearn-color-text);\n",
       "  background-color: var(--sklearn-color-unfitted-level-2);\n",
       "}\n",
       "\n",
       "#sk-container-id-1 div.sk-label.fitted input.sk-toggleable__control:checked~label.sk-toggleable__label {\n",
       "  background-color: var(--sklearn-color-fitted-level-2);\n",
       "}\n",
       "\n",
       "/* Estimator-specific style */\n",
       "\n",
       "/* Colorize estimator box */\n",
       "#sk-container-id-1 div.sk-estimator input.sk-toggleable__control:checked~label.sk-toggleable__label {\n",
       "  /* unfitted */\n",
       "  background-color: var(--sklearn-color-unfitted-level-2);\n",
       "}\n",
       "\n",
       "#sk-container-id-1 div.sk-estimator.fitted input.sk-toggleable__control:checked~label.sk-toggleable__label {\n",
       "  /* fitted */\n",
       "  background-color: var(--sklearn-color-fitted-level-2);\n",
       "}\n",
       "\n",
       "#sk-container-id-1 div.sk-label label.sk-toggleable__label,\n",
       "#sk-container-id-1 div.sk-label label {\n",
       "  /* The background is the default theme color */\n",
       "  color: var(--sklearn-color-text-on-default-background);\n",
       "}\n",
       "\n",
       "/* On hover, darken the color of the background */\n",
       "#sk-container-id-1 div.sk-label:hover label.sk-toggleable__label {\n",
       "  color: var(--sklearn-color-text);\n",
       "  background-color: var(--sklearn-color-unfitted-level-2);\n",
       "}\n",
       "\n",
       "/* Label box, darken color on hover, fitted */\n",
       "#sk-container-id-1 div.sk-label.fitted:hover label.sk-toggleable__label.fitted {\n",
       "  color: var(--sklearn-color-text);\n",
       "  background-color: var(--sklearn-color-fitted-level-2);\n",
       "}\n",
       "\n",
       "/* Estimator label */\n",
       "\n",
       "#sk-container-id-1 div.sk-label label {\n",
       "  font-family: monospace;\n",
       "  font-weight: bold;\n",
       "  display: inline-block;\n",
       "  line-height: 1.2em;\n",
       "}\n",
       "\n",
       "#sk-container-id-1 div.sk-label-container {\n",
       "  text-align: center;\n",
       "}\n",
       "\n",
       "/* Estimator-specific */\n",
       "#sk-container-id-1 div.sk-estimator {\n",
       "  font-family: monospace;\n",
       "  border: 1px dotted var(--sklearn-color-border-box);\n",
       "  border-radius: 0.25em;\n",
       "  box-sizing: border-box;\n",
       "  margin-bottom: 0.5em;\n",
       "  /* unfitted */\n",
       "  background-color: var(--sklearn-color-unfitted-level-0);\n",
       "}\n",
       "\n",
       "#sk-container-id-1 div.sk-estimator.fitted {\n",
       "  /* fitted */\n",
       "  background-color: var(--sklearn-color-fitted-level-0);\n",
       "}\n",
       "\n",
       "/* on hover */\n",
       "#sk-container-id-1 div.sk-estimator:hover {\n",
       "  /* unfitted */\n",
       "  background-color: var(--sklearn-color-unfitted-level-2);\n",
       "}\n",
       "\n",
       "#sk-container-id-1 div.sk-estimator.fitted:hover {\n",
       "  /* fitted */\n",
       "  background-color: var(--sklearn-color-fitted-level-2);\n",
       "}\n",
       "\n",
       "/* Specification for estimator info (e.g. \"i\" and \"?\") */\n",
       "\n",
       "/* Common style for \"i\" and \"?\" */\n",
       "\n",
       ".sk-estimator-doc-link,\n",
       "a:link.sk-estimator-doc-link,\n",
       "a:visited.sk-estimator-doc-link {\n",
       "  float: right;\n",
       "  font-size: smaller;\n",
       "  line-height: 1em;\n",
       "  font-family: monospace;\n",
       "  background-color: var(--sklearn-color-background);\n",
       "  border-radius: 1em;\n",
       "  height: 1em;\n",
       "  width: 1em;\n",
       "  text-decoration: none !important;\n",
       "  margin-left: 0.5em;\n",
       "  text-align: center;\n",
       "  /* unfitted */\n",
       "  border: var(--sklearn-color-unfitted-level-1) 1pt solid;\n",
       "  color: var(--sklearn-color-unfitted-level-1);\n",
       "}\n",
       "\n",
       ".sk-estimator-doc-link.fitted,\n",
       "a:link.sk-estimator-doc-link.fitted,\n",
       "a:visited.sk-estimator-doc-link.fitted {\n",
       "  /* fitted */\n",
       "  border: var(--sklearn-color-fitted-level-1) 1pt solid;\n",
       "  color: var(--sklearn-color-fitted-level-1);\n",
       "}\n",
       "\n",
       "/* On hover */\n",
       "div.sk-estimator:hover .sk-estimator-doc-link:hover,\n",
       ".sk-estimator-doc-link:hover,\n",
       "div.sk-label-container:hover .sk-estimator-doc-link:hover,\n",
       ".sk-estimator-doc-link:hover {\n",
       "  /* unfitted */\n",
       "  background-color: var(--sklearn-color-unfitted-level-3);\n",
       "  color: var(--sklearn-color-background);\n",
       "  text-decoration: none;\n",
       "}\n",
       "\n",
       "div.sk-estimator.fitted:hover .sk-estimator-doc-link.fitted:hover,\n",
       ".sk-estimator-doc-link.fitted:hover,\n",
       "div.sk-label-container:hover .sk-estimator-doc-link.fitted:hover,\n",
       ".sk-estimator-doc-link.fitted:hover {\n",
       "  /* fitted */\n",
       "  background-color: var(--sklearn-color-fitted-level-3);\n",
       "  color: var(--sklearn-color-background);\n",
       "  text-decoration: none;\n",
       "}\n",
       "\n",
       "/* Span, style for the box shown on hovering the info icon */\n",
       ".sk-estimator-doc-link span {\n",
       "  display: none;\n",
       "  z-index: 9999;\n",
       "  position: relative;\n",
       "  font-weight: normal;\n",
       "  right: .2ex;\n",
       "  padding: .5ex;\n",
       "  margin: .5ex;\n",
       "  width: min-content;\n",
       "  min-width: 20ex;\n",
       "  max-width: 50ex;\n",
       "  color: var(--sklearn-color-text);\n",
       "  box-shadow: 2pt 2pt 4pt #999;\n",
       "  /* unfitted */\n",
       "  background: var(--sklearn-color-unfitted-level-0);\n",
       "  border: .5pt solid var(--sklearn-color-unfitted-level-3);\n",
       "}\n",
       "\n",
       ".sk-estimator-doc-link.fitted span {\n",
       "  /* fitted */\n",
       "  background: var(--sklearn-color-fitted-level-0);\n",
       "  border: var(--sklearn-color-fitted-level-3);\n",
       "}\n",
       "\n",
       ".sk-estimator-doc-link:hover span {\n",
       "  display: block;\n",
       "}\n",
       "\n",
       "/* \"?\"-specific style due to the `<a>` HTML tag */\n",
       "\n",
       "#sk-container-id-1 a.estimator_doc_link {\n",
       "  float: right;\n",
       "  font-size: 1rem;\n",
       "  line-height: 1em;\n",
       "  font-family: monospace;\n",
       "  background-color: var(--sklearn-color-background);\n",
       "  border-radius: 1rem;\n",
       "  height: 1rem;\n",
       "  width: 1rem;\n",
       "  text-decoration: none;\n",
       "  /* unfitted */\n",
       "  color: var(--sklearn-color-unfitted-level-1);\n",
       "  border: var(--sklearn-color-unfitted-level-1) 1pt solid;\n",
       "}\n",
       "\n",
       "#sk-container-id-1 a.estimator_doc_link.fitted {\n",
       "  /* fitted */\n",
       "  border: var(--sklearn-color-fitted-level-1) 1pt solid;\n",
       "  color: var(--sklearn-color-fitted-level-1);\n",
       "}\n",
       "\n",
       "/* On hover */\n",
       "#sk-container-id-1 a.estimator_doc_link:hover {\n",
       "  /* unfitted */\n",
       "  background-color: var(--sklearn-color-unfitted-level-3);\n",
       "  color: var(--sklearn-color-background);\n",
       "  text-decoration: none;\n",
       "}\n",
       "\n",
       "#sk-container-id-1 a.estimator_doc_link.fitted:hover {\n",
       "  /* fitted */\n",
       "  background-color: var(--sklearn-color-fitted-level-3);\n",
       "}\n",
       "</style><div id=\"sk-container-id-1\" class=\"sk-top-container\"><div class=\"sk-text-repr-fallback\"><pre>GridSearchCV(cv=5,\n",
       "             estimator=Pipeline(steps=[(&#x27;preprocessor&#x27;,\n",
       "                                        ColumnTransformer(transformers=[(&#x27;num&#x27;,\n",
       "                                                                         Pipeline(steps=[(&#x27;scaler&#x27;,\n",
       "                                                                                          StandardScaler())]),\n",
       "                                                                         Index([&#x27;Marital_status&#x27;, &#x27;Application_mode&#x27;, &#x27;Application_order&#x27;, &#x27;Course&#x27;,\n",
       "       &#x27;Daytime_evening_attendance&#x27;, &#x27;Previous_qualification&#x27;,\n",
       "       &#x27;Previous_qualification_grade&#x27;, &#x27;Nacionality&#x27;, &#x27;Mothers_qualification&#x27;,\n",
       "       &#x27;Fathers_q...\n",
       "       &#x27;Inflation_rate&#x27;, &#x27;GDP&#x27;],\n",
       "      dtype=&#x27;object&#x27;)),\n",
       "                                                                        (&#x27;cat&#x27;,\n",
       "                                                                         Pipeline(steps=[(&#x27;onehot&#x27;,\n",
       "                                                                                          OneHotEncoder(handle_unknown=&#x27;ignore&#x27;))]),\n",
       "                                                                         Index([], dtype=&#x27;object&#x27;))])),\n",
       "                                       (&#x27;classifier&#x27;,\n",
       "                                        GradientBoostingClassifier(random_state=42))]),\n",
       "             n_jobs=-1,\n",
       "             param_grid={&#x27;classifier__learning_rate&#x27;: [0.01, 0.1],\n",
       "                         &#x27;classifier__max_depth&#x27;: [3, 5],\n",
       "                         &#x27;classifier__n_estimators&#x27;: [100, 200]},\n",
       "             scoring=&#x27;accuracy&#x27;, verbose=1)</pre><b>In a Jupyter environment, please rerun this cell to show the HTML representation or trust the notebook. <br />On GitHub, the HTML representation is unable to render, please try loading this page with nbviewer.org.</b></div><div class=\"sk-container\" hidden><div class=\"sk-item sk-dashed-wrapped\"><div class=\"sk-label-container\"><div class=\"sk-label fitted sk-toggleable\"><input class=\"sk-toggleable__control sk-hidden--visually\" id=\"sk-estimator-id-1\" type=\"checkbox\" ><label for=\"sk-estimator-id-1\" class=\"sk-toggleable__label fitted sk-toggleable__label-arrow\"><div><div>GridSearchCV</div></div><div><a class=\"sk-estimator-doc-link fitted\" rel=\"noreferrer\" target=\"_blank\" href=\"https://scikit-learn.org/1.6/modules/generated/sklearn.model_selection.GridSearchCV.html\">?<span>Documentation for GridSearchCV</span></a><span class=\"sk-estimator-doc-link fitted\">i<span>Fitted</span></span></div></label><div class=\"sk-toggleable__content fitted\"><pre>GridSearchCV(cv=5,\n",
       "             estimator=Pipeline(steps=[(&#x27;preprocessor&#x27;,\n",
       "                                        ColumnTransformer(transformers=[(&#x27;num&#x27;,\n",
       "                                                                         Pipeline(steps=[(&#x27;scaler&#x27;,\n",
       "                                                                                          StandardScaler())]),\n",
       "                                                                         Index([&#x27;Marital_status&#x27;, &#x27;Application_mode&#x27;, &#x27;Application_order&#x27;, &#x27;Course&#x27;,\n",
       "       &#x27;Daytime_evening_attendance&#x27;, &#x27;Previous_qualification&#x27;,\n",
       "       &#x27;Previous_qualification_grade&#x27;, &#x27;Nacionality&#x27;, &#x27;Mothers_qualification&#x27;,\n",
       "       &#x27;Fathers_q...\n",
       "       &#x27;Inflation_rate&#x27;, &#x27;GDP&#x27;],\n",
       "      dtype=&#x27;object&#x27;)),\n",
       "                                                                        (&#x27;cat&#x27;,\n",
       "                                                                         Pipeline(steps=[(&#x27;onehot&#x27;,\n",
       "                                                                                          OneHotEncoder(handle_unknown=&#x27;ignore&#x27;))]),\n",
       "                                                                         Index([], dtype=&#x27;object&#x27;))])),\n",
       "                                       (&#x27;classifier&#x27;,\n",
       "                                        GradientBoostingClassifier(random_state=42))]),\n",
       "             n_jobs=-1,\n",
       "             param_grid={&#x27;classifier__learning_rate&#x27;: [0.01, 0.1],\n",
       "                         &#x27;classifier__max_depth&#x27;: [3, 5],\n",
       "                         &#x27;classifier__n_estimators&#x27;: [100, 200]},\n",
       "             scoring=&#x27;accuracy&#x27;, verbose=1)</pre></div> </div></div><div class=\"sk-parallel\"><div class=\"sk-parallel-item\"><div class=\"sk-item\"><div class=\"sk-label-container\"><div class=\"sk-label fitted sk-toggleable\"><input class=\"sk-toggleable__control sk-hidden--visually\" id=\"sk-estimator-id-2\" type=\"checkbox\" ><label for=\"sk-estimator-id-2\" class=\"sk-toggleable__label fitted sk-toggleable__label-arrow\"><div><div>best_estimator_: Pipeline</div></div></label><div class=\"sk-toggleable__content fitted\"><pre>Pipeline(steps=[(&#x27;preprocessor&#x27;,\n",
       "                 ColumnTransformer(transformers=[(&#x27;num&#x27;,\n",
       "                                                  Pipeline(steps=[(&#x27;scaler&#x27;,\n",
       "                                                                   StandardScaler())]),\n",
       "                                                  Index([&#x27;Marital_status&#x27;, &#x27;Application_mode&#x27;, &#x27;Application_order&#x27;, &#x27;Course&#x27;,\n",
       "       &#x27;Daytime_evening_attendance&#x27;, &#x27;Previous_qualification&#x27;,\n",
       "       &#x27;Previous_qualification_grade&#x27;, &#x27;Nacionality&#x27;, &#x27;Mothers_qualification&#x27;,\n",
       "       &#x27;Fathers_qualification&#x27;, &#x27;Mothers_occup...\n",
       "       &#x27;Curricular_units_2nd_sem_approved&#x27;, &#x27;Curricular_units_2nd_sem_grade&#x27;,\n",
       "       &#x27;Curricular_units_2nd_sem_without_evaluations&#x27;, &#x27;Unemployment_rate&#x27;,\n",
       "       &#x27;Inflation_rate&#x27;, &#x27;GDP&#x27;],\n",
       "      dtype=&#x27;object&#x27;)),\n",
       "                                                 (&#x27;cat&#x27;,\n",
       "                                                  Pipeline(steps=[(&#x27;onehot&#x27;,\n",
       "                                                                   OneHotEncoder(handle_unknown=&#x27;ignore&#x27;))]),\n",
       "                                                  Index([], dtype=&#x27;object&#x27;))])),\n",
       "                (&#x27;classifier&#x27;,\n",
       "                 GradientBoostingClassifier(n_estimators=200,\n",
       "                                            random_state=42))])</pre></div> </div></div><div class=\"sk-serial\"><div class=\"sk-item\"><div class=\"sk-serial\"><div class=\"sk-item sk-dashed-wrapped\"><div class=\"sk-label-container\"><div class=\"sk-label fitted sk-toggleable\"><input class=\"sk-toggleable__control sk-hidden--visually\" id=\"sk-estimator-id-3\" type=\"checkbox\" ><label for=\"sk-estimator-id-3\" class=\"sk-toggleable__label fitted sk-toggleable__label-arrow\"><div><div>preprocessor: ColumnTransformer</div></div><div><a class=\"sk-estimator-doc-link fitted\" rel=\"noreferrer\" target=\"_blank\" href=\"https://scikit-learn.org/1.6/modules/generated/sklearn.compose.ColumnTransformer.html\">?<span>Documentation for preprocessor: ColumnTransformer</span></a></div></label><div class=\"sk-toggleable__content fitted\"><pre>ColumnTransformer(transformers=[(&#x27;num&#x27;,\n",
       "                                 Pipeline(steps=[(&#x27;scaler&#x27;, StandardScaler())]),\n",
       "                                 Index([&#x27;Marital_status&#x27;, &#x27;Application_mode&#x27;, &#x27;Application_order&#x27;, &#x27;Course&#x27;,\n",
       "       &#x27;Daytime_evening_attendance&#x27;, &#x27;Previous_qualification&#x27;,\n",
       "       &#x27;Previous_qualification_grade&#x27;, &#x27;Nacionality&#x27;, &#x27;Mothers_qualification&#x27;,\n",
       "       &#x27;Fathers_qualification&#x27;, &#x27;Mothers_occupation&#x27;, &#x27;Fathers_occupation&#x27;,\n",
       "       &#x27;Adm...\n",
       "       &#x27;Curricular_units_2nd_sem_enrolled&#x27;,\n",
       "       &#x27;Curricular_units_2nd_sem_evaluations&#x27;,\n",
       "       &#x27;Curricular_units_2nd_sem_approved&#x27;, &#x27;Curricular_units_2nd_sem_grade&#x27;,\n",
       "       &#x27;Curricular_units_2nd_sem_without_evaluations&#x27;, &#x27;Unemployment_rate&#x27;,\n",
       "       &#x27;Inflation_rate&#x27;, &#x27;GDP&#x27;],\n",
       "      dtype=&#x27;object&#x27;)),\n",
       "                                (&#x27;cat&#x27;,\n",
       "                                 Pipeline(steps=[(&#x27;onehot&#x27;,\n",
       "                                                  OneHotEncoder(handle_unknown=&#x27;ignore&#x27;))]),\n",
       "                                 Index([], dtype=&#x27;object&#x27;))])</pre></div> </div></div><div class=\"sk-parallel\"><div class=\"sk-parallel-item\"><div class=\"sk-item\"><div class=\"sk-label-container\"><div class=\"sk-label fitted sk-toggleable\"><input class=\"sk-toggleable__control sk-hidden--visually\" id=\"sk-estimator-id-4\" type=\"checkbox\" ><label for=\"sk-estimator-id-4\" class=\"sk-toggleable__label fitted sk-toggleable__label-arrow\"><div><div>num</div></div></label><div class=\"sk-toggleable__content fitted\"><pre>Index([&#x27;Marital_status&#x27;, &#x27;Application_mode&#x27;, &#x27;Application_order&#x27;, &#x27;Course&#x27;,\n",
       "       &#x27;Daytime_evening_attendance&#x27;, &#x27;Previous_qualification&#x27;,\n",
       "       &#x27;Previous_qualification_grade&#x27;, &#x27;Nacionality&#x27;, &#x27;Mothers_qualification&#x27;,\n",
       "       &#x27;Fathers_qualification&#x27;, &#x27;Mothers_occupation&#x27;, &#x27;Fathers_occupation&#x27;,\n",
       "       &#x27;Admission_grade&#x27;, &#x27;Displaced&#x27;, &#x27;Educational_special_needs&#x27;, &#x27;Debtor&#x27;,\n",
       "       &#x27;Tuition_fees_up_to_date&#x27;, &#x27;Gender&#x27;, &#x27;Scholarship_holder&#x27;,\n",
       "       &#x27;Age_at_enrollment&#x27;, &#x27;International&#x27;,\n",
       "       &#x27;Curricular_units_1st_sem_credited&#x27;,\n",
       "       &#x27;Curricular_units_1st_sem_enrolled&#x27;,\n",
       "       &#x27;Curricular_units_1st_sem_evaluations&#x27;,\n",
       "       &#x27;Curricular_units_1st_sem_approved&#x27;, &#x27;Curricular_units_1st_sem_grade&#x27;,\n",
       "       &#x27;Curricular_units_1st_sem_without_evaluations&#x27;,\n",
       "       &#x27;Curricular_units_2nd_sem_credited&#x27;,\n",
       "       &#x27;Curricular_units_2nd_sem_enrolled&#x27;,\n",
       "       &#x27;Curricular_units_2nd_sem_evaluations&#x27;,\n",
       "       &#x27;Curricular_units_2nd_sem_approved&#x27;, &#x27;Curricular_units_2nd_sem_grade&#x27;,\n",
       "       &#x27;Curricular_units_2nd_sem_without_evaluations&#x27;, &#x27;Unemployment_rate&#x27;,\n",
       "       &#x27;Inflation_rate&#x27;, &#x27;GDP&#x27;],\n",
       "      dtype=&#x27;object&#x27;)</pre></div> </div></div><div class=\"sk-serial\"><div class=\"sk-item\"><div class=\"sk-serial\"><div class=\"sk-item\"><div class=\"sk-estimator fitted sk-toggleable\"><input class=\"sk-toggleable__control sk-hidden--visually\" id=\"sk-estimator-id-5\" type=\"checkbox\" ><label for=\"sk-estimator-id-5\" class=\"sk-toggleable__label fitted sk-toggleable__label-arrow\"><div><div>StandardScaler</div></div><div><a class=\"sk-estimator-doc-link fitted\" rel=\"noreferrer\" target=\"_blank\" href=\"https://scikit-learn.org/1.6/modules/generated/sklearn.preprocessing.StandardScaler.html\">?<span>Documentation for StandardScaler</span></a></div></label><div class=\"sk-toggleable__content fitted\"><pre>StandardScaler()</pre></div> </div></div></div></div></div></div></div><div class=\"sk-parallel-item\"><div class=\"sk-item\"><div class=\"sk-label-container\"><div class=\"sk-label fitted sk-toggleable\"><input class=\"sk-toggleable__control sk-hidden--visually\" id=\"sk-estimator-id-6\" type=\"checkbox\" ><label for=\"sk-estimator-id-6\" class=\"sk-toggleable__label fitted sk-toggleable__label-arrow\"><div><div>cat</div></div></label><div class=\"sk-toggleable__content fitted\"><pre>Index([], dtype=&#x27;object&#x27;)</pre></div> </div></div><div class=\"sk-serial\"><div class=\"sk-item\"><div class=\"sk-serial\"><div class=\"sk-item\"><div class=\"sk-estimator fitted sk-toggleable\"><input class=\"sk-toggleable__control sk-hidden--visually\" id=\"sk-estimator-id-7\" type=\"checkbox\" ><label for=\"sk-estimator-id-7\" class=\"sk-toggleable__label fitted sk-toggleable__label-arrow\"><div><div>OneHotEncoder</div></div><div><a class=\"sk-estimator-doc-link fitted\" rel=\"noreferrer\" target=\"_blank\" href=\"https://scikit-learn.org/1.6/modules/generated/sklearn.preprocessing.OneHotEncoder.html\">?<span>Documentation for OneHotEncoder</span></a></div></label><div class=\"sk-toggleable__content fitted\"><pre>OneHotEncoder(handle_unknown=&#x27;ignore&#x27;)</pre></div> </div></div></div></div></div></div></div></div></div><div class=\"sk-item\"><div class=\"sk-estimator fitted sk-toggleable\"><input class=\"sk-toggleable__control sk-hidden--visually\" id=\"sk-estimator-id-8\" type=\"checkbox\" ><label for=\"sk-estimator-id-8\" class=\"sk-toggleable__label fitted sk-toggleable__label-arrow\"><div><div>GradientBoostingClassifier</div></div><div><a class=\"sk-estimator-doc-link fitted\" rel=\"noreferrer\" target=\"_blank\" href=\"https://scikit-learn.org/1.6/modules/generated/sklearn.ensemble.GradientBoostingClassifier.html\">?<span>Documentation for GradientBoostingClassifier</span></a></div></label><div class=\"sk-toggleable__content fitted\"><pre>GradientBoostingClassifier(n_estimators=200, random_state=42)</pre></div> </div></div></div></div></div></div></div></div></div></div></div>"
      ],
      "text/plain": [
       "GridSearchCV(cv=5,\n",
       "             estimator=Pipeline(steps=[('preprocessor',\n",
       "                                        ColumnTransformer(transformers=[('num',\n",
       "                                                                         Pipeline(steps=[('scaler',\n",
       "                                                                                          StandardScaler())]),\n",
       "                                                                         Index(['Marital_status', 'Application_mode', 'Application_order', 'Course',\n",
       "       'Daytime_evening_attendance', 'Previous_qualification',\n",
       "       'Previous_qualification_grade', 'Nacionality', 'Mothers_qualification',\n",
       "       'Fathers_q...\n",
       "       'Inflation_rate', 'GDP'],\n",
       "      dtype='object')),\n",
       "                                                                        ('cat',\n",
       "                                                                         Pipeline(steps=[('onehot',\n",
       "                                                                                          OneHotEncoder(handle_unknown='ignore'))]),\n",
       "                                                                         Index([], dtype='object'))])),\n",
       "                                       ('classifier',\n",
       "                                        GradientBoostingClassifier(random_state=42))]),\n",
       "             n_jobs=-1,\n",
       "             param_grid={'classifier__learning_rate': [0.01, 0.1],\n",
       "                         'classifier__max_depth': [3, 5],\n",
       "                         'classifier__n_estimators': [100, 200]},\n",
       "             scoring='accuracy', verbose=1)"
      ]
     },
     "execution_count": 19,
     "metadata": {},
     "output_type": "execute_result"
    }
   ],
   "source": [
    "# Hyperparameter tuning\n",
    "param_grid = {\n",
    "    'classifier__n_estimators': [100, 200],\n",
    "    'classifier__learning_rate': [0.01, 0.1],\n",
    "    'classifier__max_depth': [3, 5]\n",
    "}\n",
    "\n",
    "grid_search = GridSearchCV(\n",
    "    gb_pipeline, \n",
    "    param_grid, \n",
    "    cv=5, \n",
    "    scoring='accuracy',\n",
    "    n_jobs=-1,\n",
    "    verbose=1\n",
    ")\n",
    "\n",
    "grid_search.fit(X_train, y_train)"
   ]
  },
  {
   "cell_type": "code",
   "execution_count": 20,
   "metadata": {},
   "outputs": [
    {
     "data": {
      "text/plain": [
       "['label_encoder.joblib']"
      ]
     },
     "execution_count": 20,
     "metadata": {},
     "output_type": "execute_result"
    }
   ],
   "source": [
    "# Model terbaik\n",
    "best_model = grid_search.best_estimator_\n",
    "\n",
    "# Simpan model\n",
    "dump(best_model, 'student_success_model.joblib')\n",
    "dump(le, 'label_encoder.joblib')"
   ]
  },
  {
   "cell_type": "markdown",
   "metadata": {},
   "source": [
    "## Evaluation"
   ]
  },
  {
   "cell_type": "code",
   "execution_count": 21,
   "metadata": {},
   "outputs": [
    {
     "name": "stdout",
     "output_type": "stream",
     "text": [
      "Akurasi Model: 0.7627\n",
      "\n",
      "Laporan Klasifikasi:\n",
      "              precision    recall  f1-score   support\n",
      "\n",
      "     Dropout       0.81      0.74      0.77       284\n",
      "    Enrolled       0.52      0.44      0.48       159\n",
      "    Graduate       0.80      0.90      0.85       442\n",
      "\n",
      "    accuracy                           0.76       885\n",
      "   macro avg       0.71      0.69      0.70       885\n",
      "weighted avg       0.76      0.76      0.76       885\n",
      "\n"
     ]
    }
   ],
   "source": [
    "# Prediksi\n",
    "y_pred = best_model.predict(X_test)\n",
    "\n",
    "# Evaluasi\n",
    "accuracy = accuracy_score(y_test, y_pred)\n",
    "print(f\"Akurasi Model: {accuracy:.4f}\")\n",
    "print(\"\\nLaporan Klasifikasi:\")\n",
    "print(classification_report(y_test, y_pred, target_names=le.classes_))"
   ]
  },
  {
   "cell_type": "code",
   "execution_count": 22,
   "metadata": {},
   "outputs": [
    {
     "data": {
      "image/png": "[encoded data removed]",
      "text/plain": [
       "<Figure size 1000x700 with 2 Axes>"
      ]
     },
     "metadata": {},
     "output_type": "display_data"
    }
   ],
   "source": [
    "# Confusion matrix\n",
    "cm = confusion_matrix(y_test, y_pred)\n",
    "plt.figure(figsize=(10, 7))\n",
    "sns.heatmap(cm, annot=True, fmt='d', cmap='Blues', \n",
    "            xticklabels=le.classes_, \n",
    "            yticklabels=le.classes_)\n",
    "plt.xlabel('Predicted')\n",
    "plt.ylabel('Actual')\n",
    "plt.title('Confusion Matrix')\n",
    "plt.savefig('confusion_matrix.png')\n",
    "plt.show()"
   ]
  },
  {
   "cell_type": "code",
   "execution_count": 23,
   "metadata": {},
   "outputs": [
    {
     "data": {
      "image/png": "[encoded data removed]",
      "text/plain": [
       "<Figure size 1200x800 with 1 Axes>"
      ]
     },
     "metadata": {},
     "output_type": "display_data"
    }
   ],
   "source": [
    "# Feature importance\n",
    "feature_importances = best_model.named_steps['classifier'].feature_importances_\n",
    "\n",
    "# Dapatkan nama fitur setelah preprocessing\n",
    "preprocessor = best_model.named_steps['preprocessor']\n",
    "feature_names = numeric_features.tolist()\n",
    "\n",
    "if len(categorical_features) > 0:\n",
    "    ohe = preprocessor.named_transformers_['cat'].named_steps['onehot']\n",
    "    categorical_feature_names = ohe.get_feature_names_out(categorical_features)\n",
    "    feature_names.extend(categorical_feature_names)\n",
    "\n",
    "# Urutkan fitur berdasarkan kepentingan\n",
    "sorted_idx = feature_importances.argsort()[::-1]\n",
    "top_features = 10\n",
    "\n",
    "plt.figure(figsize=(12, 8))\n",
    "plt.barh(range(top_features), feature_importances[sorted_idx][:top_features], align='center')\n",
    "plt.yticks(range(top_features), [feature_names[i] for i in sorted_idx[:top_features]])\n",
    "plt.xlabel('Feature Importance')\n",
    "plt.title('Top 10 Feature Importances')\n",
    "plt.gca().invert_yaxis()\n",
    "plt.savefig('feature_importance.png')\n",
    "plt.show()"
   ]
  }
 ],
 "metadata": {
  "kernelspec": {
   "display_name": "main-ds",
   "language": "python",
   "name": "python3"
  },
  "language_info": {
   "codemirror_mode": {
    "name": "ipython",
    "version": 3
   },
   "file_extension": ".py",
   "mimetype": "text/x-python",
   "name": "python",
   "nbconvert_exporter": "python",
   "pygments_lexer": "ipython3",
   "version": "3.11.9"
  },
  "orig_nbformat": 4
 },
 "nbformat": 4,
 "nbformat_minor": 2
}
